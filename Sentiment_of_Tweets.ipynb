{
 "cells": [
  {
   "cell_type": "code",
   "execution_count": 2,
   "metadata": {},
   "outputs": [],
   "source": [
    "import pandas as pd\n",
    "import tweepy\n",
    "import csv"
   ]
  },
  {
   "cell_type": "code",
   "execution_count": 12,
   "metadata": {},
   "outputs": [],
   "source": [
    "consumer_key = \"Y6e6vo4pw6sX2o3PtZhJQPNxB\" \n",
    "consumer_secret = \"haYmIktsZbpu9fswSwKL7kxGQqstAi1vatGk9kMcIlBrdF7kxT\" \n",
    "access_token = \"1324898678767824897-f8LQps1yYauqKDdfVRF1CPLSMXSJQn\" \n",
    "access_token_secret = \"ao6Hgp8kQnk4Xfbw8szeZfCMJM11EKUSx2RNBaCpO39of\""
   ]
  },
  {
   "cell_type": "code",
   "execution_count": 13,
   "metadata": {},
   "outputs": [],
   "source": [
    "auth = tweepy.OAuthHandler(consumer_key, consumer_secret) \n",
    "auth.set_access_token(access_token, access_token_secret)\n",
    "api = tweepy.API(auth)"
   ]
  },
  {
   "cell_type": "code",
   "execution_count": 14,
   "metadata": {},
   "outputs": [],
   "source": [
    "#Typed following into terminal to create the text file:\n",
    "#snscrape twitter-search \"#tesla since:2021-02-01 until:2021-02-09\" > tesla_feb21.txt\n",
    "#this looks up all tweets that include \"#tesla\" the week that his 2016 album came out"
   ]
  },
  {
   "cell_type": "code",
   "execution_count": 15,
   "metadata": {},
   "outputs": [
    {
     "data": {
      "text/html": [
       "<div>\n",
       "<style scoped>\n",
       "    .dataframe tbody tr th:only-of-type {\n",
       "        vertical-align: middle;\n",
       "    }\n",
       "\n",
       "    .dataframe tbody tr th {\n",
       "        vertical-align: top;\n",
       "    }\n",
       "\n",
       "    .dataframe thead th {\n",
       "        text-align: right;\n",
       "    }\n",
       "</style>\n",
       "<table border=\"1\" class=\"dataframe\">\n",
       "  <thead>\n",
       "    <tr style=\"text-align: right;\">\n",
       "      <th></th>\n",
       "      <th>links</th>\n",
       "      <th>id</th>\n",
       "    </tr>\n",
       "  </thead>\n",
       "  <tbody>\n",
       "    <tr>\n",
       "      <th>0</th>\n",
       "      <td>https://twitter.com/SomosNDG/status/1358928501...</td>\n",
       "      <td>1358928501848612865</td>\n",
       "    </tr>\n",
       "    <tr>\n",
       "      <th>1</th>\n",
       "      <td>https://twitter.com/terryfrost/status/13589282...</td>\n",
       "      <td>1358928294247239682</td>\n",
       "    </tr>\n",
       "    <tr>\n",
       "      <th>2</th>\n",
       "      <td>https://twitter.com/kashira_s/status/135892828...</td>\n",
       "      <td>1358928285359476743</td>\n",
       "    </tr>\n",
       "    <tr>\n",
       "      <th>3</th>\n",
       "      <td>https://twitter.com/justindanethan/status/1358...</td>\n",
       "      <td>1358928283501531141</td>\n",
       "    </tr>\n",
       "    <tr>\n",
       "      <th>4</th>\n",
       "      <td>https://twitter.com/viaggrego/status/135892828...</td>\n",
       "      <td>1358928283056943106</td>\n",
       "    </tr>\n",
       "  </tbody>\n",
       "</table>\n",
       "</div>"
      ],
      "text/plain": [
       "                                               links                   id\n",
       "0  https://twitter.com/SomosNDG/status/1358928501...  1358928501848612865\n",
       "1  https://twitter.com/terryfrost/status/13589282...  1358928294247239682\n",
       "2  https://twitter.com/kashira_s/status/135892828...  1358928285359476743\n",
       "3  https://twitter.com/justindanethan/status/1358...  1358928283501531141\n",
       "4  https://twitter.com/viaggrego/status/135892828...  1358928283056943106"
      ]
     },
     "execution_count": 15,
     "metadata": {},
     "output_type": "execute_result"
    }
   ],
   "source": [
    "tweet_url = pd.read_csv(\"tesla_feb21.txt\", index_col= None,#make sure correct*************\n",
    "header = None, names = [\"links\"])\n",
    "\n",
    "af = lambda x: x[\"links\"].split(\"/\")[-1]\n",
    "tweet_url['id'] = tweet_url.apply(af, axis=1)\n",
    "tweet_url.head()"
   ]
  },
  {
   "cell_type": "code",
   "execution_count": null,
   "metadata": {},
   "outputs": [],
   "source": []
  },
  {
   "cell_type": "code",
   "execution_count": 16,
   "metadata": {},
   "outputs": [],
   "source": [
    "ids = tweet_url['id'].tolist()\n",
    "total_count = len(ids)\n",
    "chunks = (total_count - 1) // 50 + 1\n",
    "\n",
    "def fetch_tw(ids):\n",
    "    list_of_tw_status = api.statuses_lookup(ids, tweet_mode= \"extended\")\n",
    "    empty_data = pd.DataFrame()\n",
    "    for status in list_of_tw_status:\n",
    "            tweet_elem = {\"date\": status.created_at,\n",
    "                     #\"tweet_id\":status.id,\n",
    "                     \"tweet\":status.full_text,\n",
    "                     #\"User location\":status.user.location,\n",
    "                     \"Retweet count\":status.retweet_count,\n",
    "                     \"Like count\":status.favorite_count,\n",
    "                     #\"Source\":status.source\n",
    "                    }\n",
    "            empty_data = empty_data.append(tweet_elem, ignore_index = True)\n",
    "    empty_data.to_csv(\"tesla_jan21.csv\", mode=\"a\") \n",
    "\n",
    "for i in range(chunks):\n",
    "        batch = ids[i*50:(i+1)*50]\n",
    "        result = fetch_tw(batch)"
   ]
  },
  {
   "cell_type": "code",
   "execution_count": 17,
   "metadata": {},
   "outputs": [],
   "source": [
    "import os\n",
    "import glob\n",
    "import pandas as pd\n",
    "os.chdir(\"/Users/griffinclark/Documents/Clubs/QMIND/TweetStock/2021\")"
   ]
  },
  {
   "cell_type": "code",
   "execution_count": 18,
   "metadata": {},
   "outputs": [],
   "source": [
    "#if there are multiple csv files that you want combined:\n",
    "#go to directory where all your csv files you want to combine are\n",
    "#use following code in terminal:\n",
    "# cat *.csv >teslaNew.csv\n",
    "\n",
    "df = pd.read_csv(\"/Users/griffinclark/Documents/Clubs/QMIND/TweetStock/2021/teslaNew.csv\", engine = 'python')"
   ]
  },
  {
   "cell_type": "code",
   "execution_count": 19,
   "metadata": {},
   "outputs": [
    {
     "data": {
      "text/html": [
       "<div>\n",
       "<style scoped>\n",
       "    .dataframe tbody tr th:only-of-type {\n",
       "        vertical-align: middle;\n",
       "    }\n",
       "\n",
       "    .dataframe tbody tr th {\n",
       "        vertical-align: top;\n",
       "    }\n",
       "\n",
       "    .dataframe thead th {\n",
       "        text-align: right;\n",
       "    }\n",
       "</style>\n",
       "<table border=\"1\" class=\"dataframe\">\n",
       "  <thead>\n",
       "    <tr style=\"text-align: right;\">\n",
       "      <th></th>\n",
       "      <th>Unnamed: 0</th>\n",
       "      <th>Like count</th>\n",
       "      <th>Retweet count</th>\n",
       "      <th>date</th>\n",
       "      <th>tweet</th>\n",
       "      <th>Clean</th>\n",
       "    </tr>\n",
       "  </thead>\n",
       "  <tbody>\n",
       "    <tr>\n",
       "      <th>0</th>\n",
       "      <td>0</td>\n",
       "      <td>1.0</td>\n",
       "      <td>1.0</td>\n",
       "      <td>2021-02-08 13:26:15</td>\n",
       "      <td>See that’s is what impact of a institutional i...</td>\n",
       "      <td>see that is what impact of institutional inves...</td>\n",
       "    </tr>\n",
       "    <tr>\n",
       "      <th>1</th>\n",
       "      <td>1</td>\n",
       "      <td>1.0</td>\n",
       "      <td>0.0</td>\n",
       "      <td>2021-02-08 13:26:14</td>\n",
       "      <td>Tesla bought $1.5 billion in Bitcoin, expects ...</td>\n",
       "      <td>tesla bought billion in bitcoin expects to beg...</td>\n",
       "    </tr>\n",
       "    <tr>\n",
       "      <th>2</th>\n",
       "      <td>2</td>\n",
       "      <td>0.0</td>\n",
       "      <td>0.0</td>\n",
       "      <td>2021-02-08 13:26:29</td>\n",
       "      <td>$btc #Tesla https://t.co/CaUmpIeFul</td>\n",
       "      <td>btc tesla</td>\n",
       "    </tr>\n",
       "    <tr>\n",
       "      <th>3</th>\n",
       "      <td>3</td>\n",
       "      <td>1.0</td>\n",
       "      <td>0.0</td>\n",
       "      <td>2021-02-08 13:26:38</td>\n",
       "      <td>Ready for another #Bitcoin rally?\\n\\n#Tesla #E...</td>\n",
       "      <td>ready for another bitcoin rally tesla elonmusk...</td>\n",
       "    </tr>\n",
       "    <tr>\n",
       "      <th>4</th>\n",
       "      <td>4</td>\n",
       "      <td>0.0</td>\n",
       "      <td>0.0</td>\n",
       "      <td>2021-02-08 13:26:58</td>\n",
       "      <td>#bitcoin welcomes #Tesla when $FB $AAPL $AMZN ...</td>\n",
       "      <td>bitcoin welcomes tesla when fb aapl amzn googl</td>\n",
       "    </tr>\n",
       "    <tr>\n",
       "      <th>5</th>\n",
       "      <td>5</td>\n",
       "      <td>11.0</td>\n",
       "      <td>7.0</td>\n",
       "      <td>2021-02-08 13:26:39</td>\n",
       "      <td>#Tesla Inc invests $1.5 billion in #bitcoin, t...</td>\n",
       "      <td>tesla inc invests billion in bitcoin the curre...</td>\n",
       "    </tr>\n",
       "    <tr>\n",
       "      <th>6</th>\n",
       "      <td>6</td>\n",
       "      <td>0.0</td>\n",
       "      <td>0.0</td>\n",
       "      <td>2021-02-08 13:26:45</td>\n",
       "      <td>This is a sad day for $TSLA investors :( \\n#BT...</td>\n",
       "      <td>this is sad day for tsla investors btc is not ...</td>\n",
       "    </tr>\n",
       "    <tr>\n",
       "      <th>7</th>\n",
       "      <td>7</td>\n",
       "      <td>0.0</td>\n",
       "      <td>0.0</td>\n",
       "      <td>2021-02-08 13:26:41</td>\n",
       "      <td>@theprernaa Buy bitcoin and see magic #Tesla</td>\n",
       "      <td>buy bitcoin and see magic tesla</td>\n",
       "    </tr>\n",
       "    <tr>\n",
       "      <th>8</th>\n",
       "      <td>8</td>\n",
       "      <td>0.0</td>\n",
       "      <td>0.0</td>\n",
       "      <td>2021-02-08 13:26:32</td>\n",
       "      <td>Me trying to log in to Binance to buy more BTC...</td>\n",
       "      <td>me trying to log in to binance to buy more btc...</td>\n",
       "    </tr>\n",
       "    <tr>\n",
       "      <th>9</th>\n",
       "      <td>9</td>\n",
       "      <td>0.0</td>\n",
       "      <td>0.0</td>\n",
       "      <td>2021-02-08 13:26:28</td>\n",
       "      <td>@Tesla just announced #bitcoin will be accepta...</td>\n",
       "      <td>just announced bitcoin will be acceptable as p...</td>\n",
       "    </tr>\n",
       "  </tbody>\n",
       "</table>\n",
       "</div>"
      ],
      "text/plain": [
       "   Unnamed: 0 Like count Retweet count                 date  \\\n",
       "0           0        1.0           1.0  2021-02-08 13:26:15   \n",
       "1           1        1.0           0.0  2021-02-08 13:26:14   \n",
       "2           2        0.0           0.0  2021-02-08 13:26:29   \n",
       "3           3        1.0           0.0  2021-02-08 13:26:38   \n",
       "4           4        0.0           0.0  2021-02-08 13:26:58   \n",
       "5           5       11.0           7.0  2021-02-08 13:26:39   \n",
       "6           6        0.0           0.0  2021-02-08 13:26:45   \n",
       "7           7        0.0           0.0  2021-02-08 13:26:41   \n",
       "8           8        0.0           0.0  2021-02-08 13:26:32   \n",
       "9           9        0.0           0.0  2021-02-08 13:26:28   \n",
       "\n",
       "                                               tweet  \\\n",
       "0  See that’s is what impact of a institutional i...   \n",
       "1  Tesla bought $1.5 billion in Bitcoin, expects ...   \n",
       "2                $btc #Tesla https://t.co/CaUmpIeFul   \n",
       "3  Ready for another #Bitcoin rally?\\n\\n#Tesla #E...   \n",
       "4  #bitcoin welcomes #Tesla when $FB $AAPL $AMZN ...   \n",
       "5  #Tesla Inc invests $1.5 billion in #bitcoin, t...   \n",
       "6  This is a sad day for $TSLA investors :( \\n#BT...   \n",
       "7       @theprernaa Buy bitcoin and see magic #Tesla   \n",
       "8  Me trying to log in to Binance to buy more BTC...   \n",
       "9  @Tesla just announced #bitcoin will be accepta...   \n",
       "\n",
       "                                               Clean  \n",
       "0  see that is what impact of institutional inves...  \n",
       "1  tesla bought billion in bitcoin expects to beg...  \n",
       "2                                          btc tesla  \n",
       "3  ready for another bitcoin rally tesla elonmusk...  \n",
       "4     bitcoin welcomes tesla when fb aapl amzn googl  \n",
       "5  tesla inc invests billion in bitcoin the curre...  \n",
       "6  this is sad day for tsla investors btc is not ...  \n",
       "7                    buy bitcoin and see magic tesla  \n",
       "8  me trying to log in to binance to buy more btc...  \n",
       "9  just announced bitcoin will be acceptable as p...  "
      ]
     },
     "execution_count": 19,
     "metadata": {},
     "output_type": "execute_result"
    }
   ],
   "source": [
    "#df.drop('Unnamed: 0', inplace=True, axis=1)\n",
    "df.head(10)"
   ]
  },
  {
   "cell_type": "code",
   "execution_count": 13,
   "metadata": {},
   "outputs": [],
   "source": [
    "import re\n",
    "import urllib3\n",
    "from bs4 import BeautifulSoup\n",
    "from nltk.tokenize import WordPunctTokenizer\n",
    "import time\n",
    "from itertools import islice\n",
    "import analyzer"
   ]
  },
  {
   "cell_type": "code",
   "execution_count": 14,
   "metadata": {},
   "outputs": [],
   "source": [
    "tok = WordPunctTokenizer()\n",
    "pat1 = r'@[A-Za-z0-9_]+' # For removing mentions.\n",
    "pat2 = r'https?://[^ ]+' # For removing links.\n",
    "combined_pat = r'|'.join((pat1, pat2)) # For removing links.\n",
    "www_pat = r'www.[^ ]+' # For removing links.\n",
    "negations_dic = {\"isn't\":\"is not\", \"aren't\":\"are not\", \"wasn't\":\"was not\", \"weren't\":\"were not\",\n",
    "                \"haven't\":\"have not\",\"hasn't\":\"has not\",\"hadn't\":\"had not\",\"won't\":\"will not\",\n",
    "                \"wouldn't\":\"would not\", \"don't\":\"do not\", \"doesn't\":\"does not\",\"didn't\":\"did not\",\n",
    "                \"can't\":\"can not\",\"couldn't\":\"could not\",\"shouldn't\":\"should not\",\"mightn't\":\"might not\",\n",
    "                \"mustn't\":\"must not\"} # For removing negations.\n",
    "neg_pattern = re.compile(r'\\b(' + '|'.join(negations_dic.keys()) + r')\\b') # For removing negations.\n",
    "import warnings\n",
    "warnings.filterwarnings(\"ignore\", category=UserWarning, module='bs4')\n",
    "def tweet_cleaner(text):\n",
    "      \"\"\" This cleans the tweets text content\n",
    "          so it can be machine readable.\n",
    "      \"\"\"\n",
    "      soup = BeautifulSoup(text, 'lxml') # Decodes HTML.\n",
    "      souped = soup.get_text()\n",
    "      try: # UTF decoding.\n",
    "          bom_removed = souped.decode(\"utf-8-sig\").replace(u\"\\ufffd\", \"?\")\n",
    "      except:\n",
    "          bom_removed = souped\n",
    "      stripped = re.sub(combined_pat, '', bom_removed) # Gets rid of links.\n",
    "      stripped = re.sub(www_pat, '', stripped) # Gets rid of links.\n",
    "      lower_case = stripped.lower()\n",
    "      neg_handled = neg_pattern.sub(lambda x: negations_dic[x.group()], lower_case)\n",
    "      letters_only = re.sub(\"[^a-zA-Z]\", \" \", neg_handled) # Only lets letters in.\n",
    "      words = [x for x  in tok.tokenize(letters_only) if len(x) > 1] # Below removes whitespace\n",
    "      return (\" \".join(words)).strip()"
   ]
  },
  {
   "cell_type": "code",
   "execution_count": 15,
   "metadata": {},
   "outputs": [
    {
     "ename": "KeyError",
     "evalue": "\"['Source'] not found in axis\"",
     "output_type": "error",
     "traceback": [
      "\u001b[0;31m---------------------------------------------------------------------------\u001b[0m",
      "\u001b[0;31mKeyError\u001b[0m                                  Traceback (most recent call last)",
      "\u001b[0;32m<ipython-input-15-9bde654b84fa>\u001b[0m in \u001b[0;36m<module>\u001b[0;34m\u001b[0m\n\u001b[1;32m      1\u001b[0m \u001b[0;31m#drop any columns you deem unnecessary\u001b[0m\u001b[0;34m\u001b[0m\u001b[0;34m\u001b[0m\u001b[0;34m\u001b[0m\u001b[0m\n\u001b[0;32m----> 2\u001b[0;31m \u001b[0mdf\u001b[0m\u001b[0;34m.\u001b[0m\u001b[0mdrop\u001b[0m\u001b[0;34m(\u001b[0m\u001b[0;34m'Source'\u001b[0m\u001b[0;34m,\u001b[0m \u001b[0minplace\u001b[0m\u001b[0;34m=\u001b[0m\u001b[0;32mTrue\u001b[0m\u001b[0;34m,\u001b[0m \u001b[0maxis\u001b[0m\u001b[0;34m=\u001b[0m\u001b[0;36m1\u001b[0m\u001b[0;34m)\u001b[0m\u001b[0;34m\u001b[0m\u001b[0;34m\u001b[0m\u001b[0m\n\u001b[0m\u001b[1;32m      3\u001b[0m \u001b[0mdf\u001b[0m\u001b[0;34m.\u001b[0m\u001b[0mdrop\u001b[0m\u001b[0;34m(\u001b[0m\u001b[0;34m'Unnamed: 0'\u001b[0m\u001b[0;34m,\u001b[0m \u001b[0minplace\u001b[0m\u001b[0;34m=\u001b[0m\u001b[0;32mTrue\u001b[0m\u001b[0;34m,\u001b[0m \u001b[0maxis\u001b[0m\u001b[0;34m=\u001b[0m\u001b[0;36m1\u001b[0m\u001b[0;34m)\u001b[0m\u001b[0;34m\u001b[0m\u001b[0;34m\u001b[0m\u001b[0m\n\u001b[1;32m      4\u001b[0m \u001b[0mdf\u001b[0m\u001b[0;34m.\u001b[0m\u001b[0mdrop\u001b[0m\u001b[0;34m(\u001b[0m\u001b[0;34m'tweet_id'\u001b[0m\u001b[0;34m,\u001b[0m \u001b[0minplace\u001b[0m\u001b[0;34m=\u001b[0m\u001b[0;32mTrue\u001b[0m\u001b[0;34m,\u001b[0m \u001b[0maxis\u001b[0m\u001b[0;34m=\u001b[0m\u001b[0;36m1\u001b[0m\u001b[0;34m)\u001b[0m\u001b[0;34m\u001b[0m\u001b[0;34m\u001b[0m\u001b[0m\n\u001b[1;32m      5\u001b[0m \u001b[0mdf\u001b[0m\u001b[0;34m.\u001b[0m\u001b[0mdrop\u001b[0m\u001b[0;34m(\u001b[0m\u001b[0;34m'User location'\u001b[0m\u001b[0;34m,\u001b[0m \u001b[0minplace\u001b[0m \u001b[0;34m=\u001b[0m \u001b[0;32mTrue\u001b[0m\u001b[0;34m,\u001b[0m \u001b[0maxis\u001b[0m \u001b[0;34m=\u001b[0m \u001b[0;36m1\u001b[0m\u001b[0;34m)\u001b[0m \u001b[0;31m#delete columns we don't need\u001b[0m\u001b[0;34m\u001b[0m\u001b[0;34m\u001b[0m\u001b[0m\n",
      "\u001b[0;32m~/opt/anaconda3/lib/python3.8/site-packages/pandas/core/frame.py\u001b[0m in \u001b[0;36mdrop\u001b[0;34m(self, labels, axis, index, columns, level, inplace, errors)\u001b[0m\n\u001b[1;32m   3988\u001b[0m                 \u001b[0mweight\u001b[0m  \u001b[0;36m1.0\u001b[0m     \u001b[0;36m0.8\u001b[0m\u001b[0;34m\u001b[0m\u001b[0;34m\u001b[0m\u001b[0m\n\u001b[1;32m   3989\u001b[0m         \"\"\"\n\u001b[0;32m-> 3990\u001b[0;31m         return super().drop(\n\u001b[0m\u001b[1;32m   3991\u001b[0m             \u001b[0mlabels\u001b[0m\u001b[0;34m=\u001b[0m\u001b[0mlabels\u001b[0m\u001b[0;34m,\u001b[0m\u001b[0;34m\u001b[0m\u001b[0;34m\u001b[0m\u001b[0m\n\u001b[1;32m   3992\u001b[0m             \u001b[0maxis\u001b[0m\u001b[0;34m=\u001b[0m\u001b[0maxis\u001b[0m\u001b[0;34m,\u001b[0m\u001b[0;34m\u001b[0m\u001b[0;34m\u001b[0m\u001b[0m\n",
      "\u001b[0;32m~/opt/anaconda3/lib/python3.8/site-packages/pandas/core/generic.py\u001b[0m in \u001b[0;36mdrop\u001b[0;34m(self, labels, axis, index, columns, level, inplace, errors)\u001b[0m\n\u001b[1;32m   3934\u001b[0m         \u001b[0;32mfor\u001b[0m \u001b[0maxis\u001b[0m\u001b[0;34m,\u001b[0m \u001b[0mlabels\u001b[0m \u001b[0;32min\u001b[0m \u001b[0maxes\u001b[0m\u001b[0;34m.\u001b[0m\u001b[0mitems\u001b[0m\u001b[0;34m(\u001b[0m\u001b[0;34m)\u001b[0m\u001b[0;34m:\u001b[0m\u001b[0;34m\u001b[0m\u001b[0;34m\u001b[0m\u001b[0m\n\u001b[1;32m   3935\u001b[0m             \u001b[0;32mif\u001b[0m \u001b[0mlabels\u001b[0m \u001b[0;32mis\u001b[0m \u001b[0;32mnot\u001b[0m \u001b[0;32mNone\u001b[0m\u001b[0;34m:\u001b[0m\u001b[0;34m\u001b[0m\u001b[0;34m\u001b[0m\u001b[0m\n\u001b[0;32m-> 3936\u001b[0;31m                 \u001b[0mobj\u001b[0m \u001b[0;34m=\u001b[0m \u001b[0mobj\u001b[0m\u001b[0;34m.\u001b[0m\u001b[0m_drop_axis\u001b[0m\u001b[0;34m(\u001b[0m\u001b[0mlabels\u001b[0m\u001b[0;34m,\u001b[0m \u001b[0maxis\u001b[0m\u001b[0;34m,\u001b[0m \u001b[0mlevel\u001b[0m\u001b[0;34m=\u001b[0m\u001b[0mlevel\u001b[0m\u001b[0;34m,\u001b[0m \u001b[0merrors\u001b[0m\u001b[0;34m=\u001b[0m\u001b[0merrors\u001b[0m\u001b[0;34m)\u001b[0m\u001b[0;34m\u001b[0m\u001b[0;34m\u001b[0m\u001b[0m\n\u001b[0m\u001b[1;32m   3937\u001b[0m \u001b[0;34m\u001b[0m\u001b[0m\n\u001b[1;32m   3938\u001b[0m         \u001b[0;32mif\u001b[0m \u001b[0minplace\u001b[0m\u001b[0;34m:\u001b[0m\u001b[0;34m\u001b[0m\u001b[0;34m\u001b[0m\u001b[0m\n",
      "\u001b[0;32m~/opt/anaconda3/lib/python3.8/site-packages/pandas/core/generic.py\u001b[0m in \u001b[0;36m_drop_axis\u001b[0;34m(self, labels, axis, level, errors)\u001b[0m\n\u001b[1;32m   3968\u001b[0m                 \u001b[0mnew_axis\u001b[0m \u001b[0;34m=\u001b[0m \u001b[0maxis\u001b[0m\u001b[0;34m.\u001b[0m\u001b[0mdrop\u001b[0m\u001b[0;34m(\u001b[0m\u001b[0mlabels\u001b[0m\u001b[0;34m,\u001b[0m \u001b[0mlevel\u001b[0m\u001b[0;34m=\u001b[0m\u001b[0mlevel\u001b[0m\u001b[0;34m,\u001b[0m \u001b[0merrors\u001b[0m\u001b[0;34m=\u001b[0m\u001b[0merrors\u001b[0m\u001b[0;34m)\u001b[0m\u001b[0;34m\u001b[0m\u001b[0;34m\u001b[0m\u001b[0m\n\u001b[1;32m   3969\u001b[0m             \u001b[0;32melse\u001b[0m\u001b[0;34m:\u001b[0m\u001b[0;34m\u001b[0m\u001b[0;34m\u001b[0m\u001b[0m\n\u001b[0;32m-> 3970\u001b[0;31m                 \u001b[0mnew_axis\u001b[0m \u001b[0;34m=\u001b[0m \u001b[0maxis\u001b[0m\u001b[0;34m.\u001b[0m\u001b[0mdrop\u001b[0m\u001b[0;34m(\u001b[0m\u001b[0mlabels\u001b[0m\u001b[0;34m,\u001b[0m \u001b[0merrors\u001b[0m\u001b[0;34m=\u001b[0m\u001b[0merrors\u001b[0m\u001b[0;34m)\u001b[0m\u001b[0;34m\u001b[0m\u001b[0;34m\u001b[0m\u001b[0m\n\u001b[0m\u001b[1;32m   3971\u001b[0m             \u001b[0mresult\u001b[0m \u001b[0;34m=\u001b[0m \u001b[0mself\u001b[0m\u001b[0;34m.\u001b[0m\u001b[0mreindex\u001b[0m\u001b[0;34m(\u001b[0m\u001b[0;34m**\u001b[0m\u001b[0;34m{\u001b[0m\u001b[0maxis_name\u001b[0m\u001b[0;34m:\u001b[0m \u001b[0mnew_axis\u001b[0m\u001b[0;34m}\u001b[0m\u001b[0;34m)\u001b[0m\u001b[0;34m\u001b[0m\u001b[0;34m\u001b[0m\u001b[0m\n\u001b[1;32m   3972\u001b[0m \u001b[0;34m\u001b[0m\u001b[0m\n",
      "\u001b[0;32m~/opt/anaconda3/lib/python3.8/site-packages/pandas/core/indexes/base.py\u001b[0m in \u001b[0;36mdrop\u001b[0;34m(self, labels, errors)\u001b[0m\n\u001b[1;32m   5016\u001b[0m         \u001b[0;32mif\u001b[0m \u001b[0mmask\u001b[0m\u001b[0;34m.\u001b[0m\u001b[0many\u001b[0m\u001b[0;34m(\u001b[0m\u001b[0;34m)\u001b[0m\u001b[0;34m:\u001b[0m\u001b[0;34m\u001b[0m\u001b[0;34m\u001b[0m\u001b[0m\n\u001b[1;32m   5017\u001b[0m             \u001b[0;32mif\u001b[0m \u001b[0merrors\u001b[0m \u001b[0;34m!=\u001b[0m \u001b[0;34m\"ignore\"\u001b[0m\u001b[0;34m:\u001b[0m\u001b[0;34m\u001b[0m\u001b[0;34m\u001b[0m\u001b[0m\n\u001b[0;32m-> 5018\u001b[0;31m                 \u001b[0;32mraise\u001b[0m \u001b[0mKeyError\u001b[0m\u001b[0;34m(\u001b[0m\u001b[0;34mf\"{labels[mask]} not found in axis\"\u001b[0m\u001b[0;34m)\u001b[0m\u001b[0;34m\u001b[0m\u001b[0;34m\u001b[0m\u001b[0m\n\u001b[0m\u001b[1;32m   5019\u001b[0m             \u001b[0mindexer\u001b[0m \u001b[0;34m=\u001b[0m \u001b[0mindexer\u001b[0m\u001b[0;34m[\u001b[0m\u001b[0;34m~\u001b[0m\u001b[0mmask\u001b[0m\u001b[0;34m]\u001b[0m\u001b[0;34m\u001b[0m\u001b[0;34m\u001b[0m\u001b[0m\n\u001b[1;32m   5020\u001b[0m         \u001b[0;32mreturn\u001b[0m \u001b[0mself\u001b[0m\u001b[0;34m.\u001b[0m\u001b[0mdelete\u001b[0m\u001b[0;34m(\u001b[0m\u001b[0mindexer\u001b[0m\u001b[0;34m)\u001b[0m\u001b[0;34m\u001b[0m\u001b[0;34m\u001b[0m\u001b[0m\n",
      "\u001b[0;31mKeyError\u001b[0m: \"['Source'] not found in axis\""
     ]
    }
   ],
   "source": [
    "#drop any columns you deem unnecessary\n",
    "df.drop('Source', inplace=True, axis=1)\n",
    "df.drop('Unnamed: 0', inplace=True, axis=1)\n",
    "df.drop('tweet_id', inplace=True, axis=1)\n",
    "df.drop('User location', inplace = True, axis = 1) #delete columns we don't need\n",
    "df.head()"
   ]
  },
  {
   "cell_type": "code",
   "execution_count": 16,
   "metadata": {},
   "outputs": [
    {
     "name": "stdout",
     "output_type": "stream",
     "text": [
      "Cleaned 58806 in 19.9378 seconds\n"
     ]
    },
    {
     "data": {
      "text/html": [
       "<div>\n",
       "<style scoped>\n",
       "    .dataframe tbody tr th:only-of-type {\n",
       "        vertical-align: middle;\n",
       "    }\n",
       "\n",
       "    .dataframe tbody tr th {\n",
       "        vertical-align: top;\n",
       "    }\n",
       "\n",
       "    .dataframe thead th {\n",
       "        text-align: right;\n",
       "    }\n",
       "</style>\n",
       "<table border=\"1\" class=\"dataframe\">\n",
       "  <thead>\n",
       "    <tr style=\"text-align: right;\">\n",
       "      <th></th>\n",
       "      <th>Like count</th>\n",
       "      <th>Retweet count</th>\n",
       "      <th>date</th>\n",
       "      <th>tweet</th>\n",
       "      <th>Clean</th>\n",
       "    </tr>\n",
       "  </thead>\n",
       "  <tbody>\n",
       "    <tr>\n",
       "      <th>0</th>\n",
       "      <td>1.0</td>\n",
       "      <td>1.0</td>\n",
       "      <td>2021-02-08 13:26:15</td>\n",
       "      <td>See that’s is what impact of a institutional i...</td>\n",
       "      <td>see that is what impact of institutional inves...</td>\n",
       "    </tr>\n",
       "    <tr>\n",
       "      <th>1</th>\n",
       "      <td>1.0</td>\n",
       "      <td>0.0</td>\n",
       "      <td>2021-02-08 13:26:14</td>\n",
       "      <td>Tesla bought $1.5 billion in Bitcoin, expects ...</td>\n",
       "      <td>tesla bought billion in bitcoin expects to beg...</td>\n",
       "    </tr>\n",
       "    <tr>\n",
       "      <th>2</th>\n",
       "      <td>0.0</td>\n",
       "      <td>0.0</td>\n",
       "      <td>2021-02-08 13:26:29</td>\n",
       "      <td>$btc #Tesla https://t.co/CaUmpIeFul</td>\n",
       "      <td>btc tesla</td>\n",
       "    </tr>\n",
       "    <tr>\n",
       "      <th>3</th>\n",
       "      <td>1.0</td>\n",
       "      <td>0.0</td>\n",
       "      <td>2021-02-08 13:26:38</td>\n",
       "      <td>Ready for another #Bitcoin rally?\\n\\n#Tesla #E...</td>\n",
       "      <td>ready for another bitcoin rally tesla elonmusk...</td>\n",
       "    </tr>\n",
       "    <tr>\n",
       "      <th>4</th>\n",
       "      <td>0.0</td>\n",
       "      <td>0.0</td>\n",
       "      <td>2021-02-08 13:26:58</td>\n",
       "      <td>#bitcoin welcomes #Tesla when $FB $AAPL $AMZN ...</td>\n",
       "      <td>bitcoin welcomes tesla when fb aapl amzn googl</td>\n",
       "    </tr>\n",
       "  </tbody>\n",
       "</table>\n",
       "</div>"
      ],
      "text/plain": [
       "  Like count Retweet count                 date  \\\n",
       "0        1.0           1.0  2021-02-08 13:26:15   \n",
       "1        1.0           0.0  2021-02-08 13:26:14   \n",
       "2        0.0           0.0  2021-02-08 13:26:29   \n",
       "3        1.0           0.0  2021-02-08 13:26:38   \n",
       "4        0.0           0.0  2021-02-08 13:26:58   \n",
       "\n",
       "                                               tweet  \\\n",
       "0  See that’s is what impact of a institutional i...   \n",
       "1  Tesla bought $1.5 billion in Bitcoin, expects ...   \n",
       "2                $btc #Tesla https://t.co/CaUmpIeFul   \n",
       "3  Ready for another #Bitcoin rally?\\n\\n#Tesla #E...   \n",
       "4  #bitcoin welcomes #Tesla when $FB $AAPL $AMZN ...   \n",
       "\n",
       "                                               Clean  \n",
       "0  see that is what impact of institutional inves...  \n",
       "1  tesla bought billion in bitcoin expects to beg...  \n",
       "2                                          btc tesla  \n",
       "3  ready for another bitcoin rally tesla elonmusk...  \n",
       "4     bitcoin welcomes tesla when fb aapl amzn googl  "
      ]
     },
     "execution_count": 16,
     "metadata": {},
     "output_type": "execute_result"
    }
   ],
   "source": [
    "tic = time.perf_counter()\n",
    "\n",
    "data = []\n",
    "for index, row in df.iterrows():\n",
    "    data.append(tweet_cleaner(str(row[\"tweet\"])))\n",
    "df[\"Clean\"] = data\n",
    "df.to_csv(\"TeslaNew.csv\")\n",
    "\n",
    "toc = time.perf_counter()\n",
    "print(f\"Cleaned {len(df)} in {toc - tic:0.4f} seconds\")\n",
    "df.head()"
   ]
  },
  {
   "cell_type": "code",
   "execution_count": 18,
   "metadata": {},
   "outputs": [
    {
     "data": {
      "text/plain": [
       "58806"
      ]
     },
     "execution_count": 18,
     "metadata": {},
     "output_type": "execute_result"
    }
   ],
   "source": [
    "len(df)"
   ]
  },
  {
   "cell_type": "code",
   "execution_count": 19,
   "metadata": {},
   "outputs": [
    {
     "name": "stdout",
     "output_type": "stream",
     "text": [
      "row Like count                                                    21.0\n",
      "Retweet count                                                  0.0\n",
      "date                                           2021-02-08 13:27:46\n",
      "tweet            #Tesla 1.5 milyar$ lık #Bitcoin almış, sanırım...\n",
      "Clean            tesla milyar bitcoin alm san bir re sonra bitc...\n",
      "Name: 58805, dtype: object is not able to be determined\n"
     ]
    }
   ],
   "source": [
    "tic = time.perf_counter()\n",
    "j = len(df)\n",
    "length = 0\n",
    "\n",
    "try:\n",
    "    for index, row in islice(df.iterrows(), index, None):\n",
    "        length = row\n",
    "        if detect(row[\"Clean\"])!= 'en': #this should work?\n",
    "            df.drop(index, inplace=True)\n",
    "except:\n",
    "    df.drop(index, inplace=True)\n",
    "    print(\"row\", row, \"is not able to be determined\")"
   ]
  },
  {
   "cell_type": "code",
   "execution_count": 20,
   "metadata": {},
   "outputs": [],
   "source": [
    "df.to_csv(\"Tesla_Final_Data.csv\")\n",
    "df = pd.read_csv(\"Tesla_Final_Data.csv\")"
   ]
  },
  {
   "cell_type": "code",
   "execution_count": 21,
   "metadata": {},
   "outputs": [
    {
     "name": "stderr",
     "output_type": "stream",
     "text": [
      "[nltk_data] Downloading package twitter_samples to\n",
      "[nltk_data]     /Users/griffinclark/nltk_data...\n",
      "[nltk_data]   Package twitter_samples is already up-to-date!\n",
      "[nltk_data] Downloading package vader_lexicon to\n",
      "[nltk_data]     /Users/griffinclark/nltk_data...\n",
      "[nltk_data]   Package vader_lexicon is already up-to-date!\n"
     ]
    }
   ],
   "source": [
    "import pandas as pd\n",
    "import nltk\n",
    "from nltk.sentiment.vader import SentimentIntensityAnalyzer\n",
    "from nltk.corpus import twitter_samples \n",
    " \n",
    "nltk.download('twitter_samples')\n",
    "nltk.download('vader_lexicon')\n",
    " \n",
    "analyzer = SentimentIntensityAnalyzer()"
   ]
  },
  {
   "cell_type": "code",
   "execution_count": 22,
   "metadata": {},
   "outputs": [
    {
     "data": {
      "text/plain": [
       "58804"
      ]
     },
     "execution_count": 22,
     "metadata": {},
     "output_type": "execute_result"
    }
   ],
   "source": [
    "i = 0\n",
    "neg = []\n",
    "neu = []\n",
    "pos = []\n",
    "analysis = []\n",
    "\n",
    "for i in range(len(df)-1):\n",
    "    try:\n",
    "        analysis.append(analyzer.polarity_scores(df[\"Clean\"][i]))\n",
    "    except:\n",
    "        analysis.append({'neg': 0.0, 'neu': 0.0, 'pos': 0.0, 'compound': 0.0})\n",
    "        i+=1\n",
    "\n",
    "len(analysis)"
   ]
  },
  {
   "cell_type": "code",
   "execution_count": 41,
   "metadata": {},
   "outputs": [],
   "source": [
    "df['neg'] = None\n",
    "df['neu'] = None\n",
    "df['pos'] = None\n",
    "df['compound'] = None"
   ]
  },
  {
   "cell_type": "code",
   "execution_count": 42,
   "metadata": {},
   "outputs": [],
   "source": [
    "i = 0\n",
    "for i in range(len(analysis)-1):\n",
    "    df['neg'][i] = analysis[i]['neg']\n",
    "    df['neu'][i] = analysis[i]['neu']\n",
    "    df['pos'][i] = analysis[i]['pos']\n",
    "    df['compound'][i] = analysis[i]['compound']"
   ]
  },
  {
   "cell_type": "code",
   "execution_count": 44,
   "metadata": {},
   "outputs": [],
   "source": [
    "df.head()\n",
    "df.to_csv(\"Tesla_Final_Data.csv\")"
   ]
  },
  {
   "cell_type": "code",
   "execution_count": null,
   "metadata": {},
   "outputs": [],
   "source": []
  }
 ],
 "metadata": {
  "kernelspec": {
   "display_name": "Python 3",
   "language": "python",
   "name": "python3"
  },
  "language_info": {
   "codemirror_mode": {
    "name": "ipython",
    "version": 3
   },
   "file_extension": ".py",
   "mimetype": "text/x-python",
   "name": "python",
   "nbconvert_exporter": "python",
   "pygments_lexer": "ipython3",
   "version": "3.8.3"
  }
 },
 "nbformat": 4,
 "nbformat_minor": 4
}
